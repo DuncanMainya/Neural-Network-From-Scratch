{
  "nbformat": 4,
  "nbformat_minor": 0,
  "metadata": {
    "colab": {
      "provenance": []
    },
    "kernelspec": {
      "name": "python3",
      "display_name": "Python 3"
    },
    "language_info": {
      "name": "python"
    }
  },
  "cells": [
    {
      "cell_type": "code",
      "execution_count": 1,
      "metadata": {
        "id": "msGOYoUOc2Id"
      },
      "outputs": [],
      "source": [
        "# Importing vision-related dependencies from fastai\n",
        "from fastai.vision.all import *"
      ]
    },
    {
      "cell_type": "code",
      "source": [
        "# Downloading and extracting data\n",
        "path = untar_data(URLs.MNIST)"
      ],
      "metadata": {
        "id": "8RCTd7FudEnw"
      },
      "execution_count": 2,
      "outputs": []
    },
    {
      "cell_type": "code",
      "source": [
        "# List all the folders in path\n",
        "path.ls()"
      ],
      "metadata": {
        "colab": {
          "base_uri": "https://localhost:8080/"
        },
        "id": "AEZNFGtSdK54",
        "outputId": "759ce99c-c70f-4ff0-a557-33710f7e6a46"
      },
      "execution_count": 3,
      "outputs": [
        {
          "output_type": "execute_result",
          "data": {
            "text/plain": [
              "(#2) [Path('/root/.fastai/data/mnist_png/testing'),Path('/root/.fastai/data/mnist_png/training')]"
            ]
          },
          "metadata": {},
          "execution_count": 3
        }
      ]
    },
    {
      "cell_type": "code",
      "source": [
        "# Listing all the file contents in the training folder\n",
        "(path/'training').ls().sorted()"
      ],
      "metadata": {
        "colab": {
          "base_uri": "https://localhost:8080/"
        },
        "id": "UPimLcOTdTqp",
        "outputId": "65160f54-f20d-4d44-e703-8a0fe2ea6314"
      },
      "execution_count": 4,
      "outputs": [
        {
          "output_type": "execute_result",
          "data": {
            "text/plain": [
              "(#10) [Path('/root/.fastai/data/mnist_png/training/0'),Path('/root/.fastai/data/mnist_png/training/1'),Path('/root/.fastai/data/mnist_png/training/2'),Path('/root/.fastai/data/mnist_png/training/3'),Path('/root/.fastai/data/mnist_png/training/4'),Path('/root/.fastai/data/mnist_png/training/5'),Path('/root/.fastai/data/mnist_png/training/6'),Path('/root/.fastai/data/mnist_png/training/7'),Path('/root/.fastai/data/mnist_png/training/8'),Path('/root/.fastai/data/mnist_png/training/9')]"
            ]
          },
          "metadata": {},
          "execution_count": 4
        }
      ]
    },
    {
      "cell_type": "code",
      "source": [
        "# Listing all the paths to the images\n",
        "ones = (path/'training'/'1').ls().sorted()\n",
        "nines = (path/'training'/'9').ls().sorted()"
      ],
      "metadata": {
        "id": "mz7kAxBjdfFn"
      },
      "execution_count": 5,
      "outputs": []
    },
    {
      "cell_type": "code",
      "source": [
        "# Stacking all the images into tensors and normalizing their pixel values\n",
        "stacked_ones = torch.stack([tensor(Image.open(o)) for o in ones]).float()/255\n",
        "stacked_nines = torch.stack([tensor(Image.open(o)) for o in nines]).float()/255"
      ],
      "metadata": {
        "id": "ivt4agmleRVj"
      },
      "execution_count": 6,
      "outputs": []
    },
    {
      "cell_type": "code",
      "source": [
        "# Finding the ideal 1 and then displaying it\n",
        "mean1 = stacked_ones.mean(0)\n",
        "show_image(mean1)"
      ],
      "metadata": {
        "colab": {
          "base_uri": "https://localhost:8080/",
          "height": 131
        },
        "id": "ijhCwaJBeqW6",
        "outputId": "7f7600e6-649e-4df8-dd0c-e702121872ff"
      },
      "execution_count": 7,
      "outputs": [
        {
          "output_type": "execute_result",
          "data": {
            "text/plain": [
              "<Axes: >"
            ]
          },
          "metadata": {},
          "execution_count": 7
        },
        {
          "output_type": "display_data",
          "data": {
            "text/plain": [
              "<Figure size 100x100 with 1 Axes>"
            ],
            "image/png": "[encoded data removed]"
          },
          "metadata": {}
        }
      ]
    },
    {
      "cell_type": "code",
      "source": [
        "# Finding the ideal 9 and then displaying it\n",
        "mean9 = stacked_nines.mean(0)\n",
        "show_image(mean9)"
      ],
      "metadata": {
        "colab": {
          "base_uri": "https://localhost:8080/",
          "height": 131
        },
        "id": "7tiCovbne1AG",
        "outputId": "168d2e03-7ac9-455e-d605-ab6751cac67c"
      },
      "execution_count": 8,
      "outputs": [
        {
          "output_type": "execute_result",
          "data": {
            "text/plain": [
              "<Axes: >"
            ]
          },
          "metadata": {},
          "execution_count": 8
        },
        {
          "output_type": "display_data",
          "data": {
            "text/plain": [
              "<Figure size 100x100 with 1 Axes>"
            ],
            "image/png": "[encoded data removed]"
          },
          "metadata": {}
        }
      ]
    },
    {
      "cell_type": "code",
      "source": [
        "# Creating normalized pixel values for the tensors in the validation dataset\n",
        "valid_1_tens = torch.stack([tensor(Image.open(o)) for o in (path/'testing'/'1').ls()])\n",
        "valid_1_tens = valid_1_tens.float()/255"
      ],
      "metadata": {
        "id": "ack8YoFBfC-T"
      },
      "execution_count": 9,
      "outputs": []
    },
    {
      "cell_type": "code",
      "source": [
        "valid_9_tens = torch.stack([tensor(Image.open(o)) for o in (path/'testing'/'9').ls()])\n",
        "valid_9_tens = valid_9_tens.float()/255"
      ],
      "metadata": {
        "id": "9UDsy4YefVh8"
      },
      "execution_count": 10,
      "outputs": []
    },
    {
      "cell_type": "code",
      "source": [
        "# Creating the features and the labels\n",
        "train_x = torch.cat([stacked_ones, stacked_nines]).view(-1, 28*28) # Flattening each image into a row with 784 cols\n",
        "train_y = tensor([1] * len(ones) + [0] * len(nines)).unsqueeze(1) # Labeling"
      ],
      "metadata": {
        "id": "JrHlFHdhfqlv"
      },
      "execution_count": 11,
      "outputs": []
    },
    {
      "cell_type": "code",
      "source": [
        "# Creating the training dataset\n",
        "dset = list(zip(train_x, train_y))"
      ],
      "metadata": {
        "id": "JUysmp14gJsK"
      },
      "execution_count": 12,
      "outputs": []
    },
    {
      "cell_type": "code",
      "source": [
        "# Creating the features and labels of the validation dset\n",
        "valid_x = torch.cat([valid_1_tens, valid_9_tens]).view(-1, 28*28)\n",
        "valid_y = tensor([1] * len(valid_1_tens) + [0] * len(valid_9_tens)).unsqueeze(1)"
      ],
      "metadata": {
        "id": "xa4Fg2TtgY4k"
      },
      "execution_count": 13,
      "outputs": []
    },
    {
      "cell_type": "code",
      "source": [
        "# Creating the validation dset\n",
        "valid_dset = list(zip(valid_x, valid_y))"
      ],
      "metadata": {
        "id": "qZT-knaKg2Fb"
      },
      "execution_count": 14,
      "outputs": []
    },
    {
      "cell_type": "code",
      "source": [
        "# Sigmoid function squishes values to between 0 and 1\n",
        "def sigmoid(x):\n",
        "  return 1 / (1 + np.exp(-x))\n",
        "\n",
        "# This loss function applies the sigmoid to the model's prediction since binary classification is being done\n",
        "def mnist_loss(preds, target):\n",
        "  preds = preds.sigmoid()\n",
        "  return torch.where(target==1, 1-preds, preds).mean()"
      ],
      "metadata": {
        "id": "hwIWVIbahQSP"
      },
      "execution_count": 15,
      "outputs": []
    },
    {
      "cell_type": "code",
      "source": [
        "# Creating  Dataloaders for both our training dset and validation dset\n",
        "dl = DataLoader(dset, batch_size=256)\n",
        "valid_dl = DataLoader(valid_dset, batch_size=256)"
      ],
      "metadata": {
        "id": "ACXbrB6WiI1F"
      },
      "execution_count": 16,
      "outputs": []
    },
    {
      "cell_type": "code",
      "source": [
        "# Creating a function that calculates the gradient\n",
        "def calc_grad(xb, yb, model):\n",
        "  preds = model(xb)\n",
        "  loss = mnist_loss(preds, yb)\n",
        "  loss.backward()"
      ],
      "metadata": {
        "id": "ROemqGFKje2O"
      },
      "execution_count": 17,
      "outputs": []
    },
    {
      "cell_type": "code",
      "source": [
        "# This function evaluates the accuracy of our model after each iteration\n",
        "def batch_accuracy(xb, yb):\n",
        "  preds = xb.sigmoid()\n",
        "  correct = (preds > 0.5) == yb\n",
        "  return correct.float().mean()"
      ],
      "metadata": {
        "id": "EIQF65DKlaEt"
      },
      "execution_count": 18,
      "outputs": []
    },
    {
      "cell_type": "code",
      "source": [
        "def validate_epoch(model):\n",
        "  \"\"\" This function evaluates the accuracy of the model after each iteration,\n",
        "     using unseen data from the validation dataset\"\"\"\n",
        "  accs = [batch_accuracy(model(xb), yb) for xb, yb in valid_dl]\n",
        "  return round(torch.stack(accs).mean().item(), 4)"
      ],
      "metadata": {
        "id": "Lgj0uB_dltaG"
      },
      "execution_count": 19,
      "outputs": []
    },
    {
      "cell_type": "code",
      "source": [
        "linear_model = nn.Linear(28*28,1) # Linear model that expects 784 inputs and 1 output neuron\n",
        "w, b = linear_model.parameters() # weights, biases"
      ],
      "metadata": {
        "id": "HP3dGOAlmZEO"
      },
      "execution_count": 20,
      "outputs": []
    },
    {
      "cell_type": "code",
      "source": [
        "# Creating a basic optimizer\n",
        "class BasicOptim:\n",
        "  def __init__(self, params, lr):\n",
        "    self.params = list(params)\n",
        "    self.lr = lr\n",
        "\n",
        "  def step(self, *args, **kwargs):\n",
        "    for p in self.params:\n",
        "      p.data -= p.grad.data * self.lr # Gradient descent step\n",
        "\n",
        "  def zero_grad(self, *args, **kwargs):\n",
        "      for p in self.params:\n",
        "        p.grad = None"
      ],
      "metadata": {
        "id": "KqyJP7uRo8lp"
      },
      "execution_count": 21,
      "outputs": []
    },
    {
      "cell_type": "code",
      "source": [
        "# Creating an instance of our Basic Optimizer\n",
        "opt = BasicOptim(linear_model.parameters(), lr=1.)"
      ],
      "metadata": {
        "id": "UNubhqEZqKkl"
      },
      "execution_count": 22,
      "outputs": []
    },
    {
      "cell_type": "code",
      "source": [
        "def train_epoch(model):\n",
        "  \"\"\"This function trains the model for each epoch, calculates gradient,\n",
        "    makes the step and then clears the gradient to make sure the model does not learn the wrong signals.\"\"\"\n",
        "  for xb, yb in dl:\n",
        "    calc_grad(xb , yb, model)\n",
        "    opt.step() # Gradient descent\n",
        "    opt.zero_grad() # Clears gradients"
      ],
      "metadata": {
        "id": "STfn0lTGqYQL"
      },
      "execution_count": 23,
      "outputs": []
    },
    {
      "cell_type": "code",
      "source": [
        "def train_model(model, epochs):\n",
        "  \"\"\"This function trains the model through the whole dataset,\n",
        "     and then evaluates it using unseen data from the validation dataset.\"\"\"\n",
        "  for i in range(epochs):\n",
        "    train_epoch(model)\n",
        "    print(validate_epoch(model), end=' ')"
      ],
      "metadata": {
        "id": "98gBloxhrQcQ"
      },
      "execution_count": 24,
      "outputs": []
    },
    {
      "cell_type": "code",
      "source": [
        "# Creating Dataloaders for both the training dset and validation dset\n",
        "dls = DataLoaders(dl, valid_dl)"
      ],
      "metadata": {
        "id": "piTSxzYmr2VP"
      },
      "execution_count": 25,
      "outputs": []
    },
    {
      "cell_type": "code",
      "source": [
        "\"\"\"Creating a simple network with 30 neurons in the hidden layer,\n",
        "   and one neuron in the output layer with an activation function that enables the model to learn complex patterns\"\"\"\n",
        "simple_net = nn.Sequential(\n",
        "    nn.Linear(28*28, 30),\n",
        "    nn.ReLU(),\n",
        "    nn.Linear(30,1)\n",
        ")"
      ],
      "metadata": {
        "id": "irBMgn2puPQL"
      },
      "execution_count": 26,
      "outputs": []
    },
    {
      "cell_type": "code",
      "source": [
        "# Creating our learner\n",
        "learn = Learner(dls, simple_net, opt_func=SGD, loss_func=mnist_loss, metrics=batch_accuracy)"
      ],
      "metadata": {
        "id": "KMTNK82GtKr9"
      },
      "execution_count": 27,
      "outputs": []
    },
    {
      "cell_type": "code",
      "source": [
        "# Training our model for 40 epochs with a learning rate of 1\n",
        "learn.fit(40, 1)"
      ],
      "metadata": {
        "colab": {
          "base_uri": "https://localhost:8080/",
          "height": 1000
        },
        "id": "qaGGOYBXtXQp",
        "outputId": "17239a13-3522-42ee-9e92-716fc5da6d92"
      },
      "execution_count": 28,
      "outputs": [
        {
          "output_type": "display_data",
          "data": {
            "text/plain": [
              "<IPython.core.display.HTML object>"
            ],
            "text/html": [
              "\n",
              "<style>\n",
              "    /* Turns off some styling */\n",
              "    progress {\n",
              "        /* gets rid of default border in Firefox and Opera. */\n",
              "        border: none;\n",
              "        /* Needs to be in here for Safari polyfill so background images work as expected. */\n",
              "        background-size: auto;\n",
              "    }\n",
              "    progress:not([value]), progress:not([value])::-webkit-progress-bar {\n",
              "        background: repeating-linear-gradient(45deg, #7e7e7e, #7e7e7e 10px, #5c5c5c 10px, #5c5c5c 20px);\n",
              "    }\n",
              "    .progress-bar-interrupted, .progress-bar-interrupted::-webkit-progress-bar {\n",
              "        background: #F44336;\n",
              "    }\n",
              "</style>\n"
            ]
          },
          "metadata": {}
        },
        {
          "output_type": "display_data",
          "data": {
            "text/plain": [
              "<IPython.core.display.HTML object>"
            ],
            "text/html": [
              "<table border=\"1\" class=\"dataframe\">\n",
              "  <thead>\n",
              "    <tr style=\"text-align: left;\">\n",
              "      <th>epoch</th>\n",
              "      <th>train_loss</th>\n",
              "      <th>valid_loss</th>\n",
              "      <th>batch_accuracy</th>\n",
              "      <th>time</th>\n",
              "    </tr>\n",
              "  </thead>\n",
              "  <tbody>\n",
              "    <tr>\n",
              "      <td>0</td>\n",
              "      <td>0.166522</td>\n",
              "      <td>0.444971</td>\n",
              "      <td>0.471082</td>\n",
              "      <td>00:00</td>\n",
              "    </tr>\n",
              "    <tr>\n",
              "      <td>1</td>\n",
              "      <td>0.058775</td>\n",
              "      <td>0.139341</td>\n",
              "      <td>0.886194</td>\n",
              "      <td>00:00</td>\n",
              "    </tr>\n",
              "    <tr>\n",
              "      <td>2</td>\n",
              "      <td>0.025532</td>\n",
              "      <td>0.045728</td>\n",
              "      <td>0.964552</td>\n",
              "      <td>00:00</td>\n",
              "    </tr>\n",
              "    <tr>\n",
              "      <td>3</td>\n",
              "      <td>0.013481</td>\n",
              "      <td>0.021806</td>\n",
              "      <td>0.984608</td>\n",
              "      <td>00:00</td>\n",
              "    </tr>\n",
              "    <tr>\n",
              "      <td>4</td>\n",
              "      <td>0.008748</td>\n",
              "      <td>0.013809</td>\n",
              "      <td>0.991138</td>\n",
              "      <td>00:00</td>\n",
              "    </tr>\n",
              "    <tr>\n",
              "      <td>5</td>\n",
              "      <td>0.006796</td>\n",
              "      <td>0.010420</td>\n",
              "      <td>0.993470</td>\n",
              "      <td>00:00</td>\n",
              "    </tr>\n",
              "    <tr>\n",
              "      <td>6</td>\n",
              "      <td>0.005903</td>\n",
              "      <td>0.008631</td>\n",
              "      <td>0.994869</td>\n",
              "      <td>00:00</td>\n",
              "    </tr>\n",
              "    <tr>\n",
              "      <td>7</td>\n",
              "      <td>0.005426</td>\n",
              "      <td>0.007576</td>\n",
              "      <td>0.994869</td>\n",
              "      <td>00:00</td>\n",
              "    </tr>\n",
              "    <tr>\n",
              "      <td>8</td>\n",
              "      <td>0.005117</td>\n",
              "      <td>0.006884</td>\n",
              "      <td>0.994869</td>\n",
              "      <td>00:00</td>\n",
              "    </tr>\n",
              "    <tr>\n",
              "      <td>9</td>\n",
              "      <td>0.004872</td>\n",
              "      <td>0.006409</td>\n",
              "      <td>0.994869</td>\n",
              "      <td>00:00</td>\n",
              "    </tr>\n",
              "    <tr>\n",
              "      <td>10</td>\n",
              "      <td>0.004653</td>\n",
              "      <td>0.006060</td>\n",
              "      <td>0.994869</td>\n",
              "      <td>00:00</td>\n",
              "    </tr>\n",
              "    <tr>\n",
              "      <td>11</td>\n",
              "      <td>0.004458</td>\n",
              "      <td>0.005781</td>\n",
              "      <td>0.996269</td>\n",
              "      <td>00:00</td>\n",
              "    </tr>\n",
              "    <tr>\n",
              "      <td>12</td>\n",
              "      <td>0.004274</td>\n",
              "      <td>0.005560</td>\n",
              "      <td>0.996269</td>\n",
              "      <td>00:00</td>\n",
              "    </tr>\n",
              "    <tr>\n",
              "      <td>13</td>\n",
              "      <td>0.004103</td>\n",
              "      <td>0.005381</td>\n",
              "      <td>0.996269</td>\n",
              "      <td>00:00</td>\n",
              "    </tr>\n",
              "    <tr>\n",
              "      <td>14</td>\n",
              "      <td>0.003948</td>\n",
              "      <td>0.005232</td>\n",
              "      <td>0.996269</td>\n",
              "      <td>00:00</td>\n",
              "    </tr>\n",
              "    <tr>\n",
              "      <td>15</td>\n",
              "      <td>0.003809</td>\n",
              "      <td>0.005108</td>\n",
              "      <td>0.996269</td>\n",
              "      <td>00:00</td>\n",
              "    </tr>\n",
              "    <tr>\n",
              "      <td>16</td>\n",
              "      <td>0.003685</td>\n",
              "      <td>0.005002</td>\n",
              "      <td>0.995802</td>\n",
              "      <td>00:00</td>\n",
              "    </tr>\n",
              "    <tr>\n",
              "      <td>17</td>\n",
              "      <td>0.003577</td>\n",
              "      <td>0.004911</td>\n",
              "      <td>0.995802</td>\n",
              "      <td>00:00</td>\n",
              "    </tr>\n",
              "    <tr>\n",
              "      <td>18</td>\n",
              "      <td>0.003486</td>\n",
              "      <td>0.004830</td>\n",
              "      <td>0.995802</td>\n",
              "      <td>00:00</td>\n",
              "    </tr>\n",
              "    <tr>\n",
              "      <td>19</td>\n",
              "      <td>0.003410</td>\n",
              "      <td>0.004755</td>\n",
              "      <td>0.995802</td>\n",
              "      <td>00:00</td>\n",
              "    </tr>\n",
              "    <tr>\n",
              "      <td>20</td>\n",
              "      <td>0.003348</td>\n",
              "      <td>0.004686</td>\n",
              "      <td>0.995802</td>\n",
              "      <td>00:00</td>\n",
              "    </tr>\n",
              "    <tr>\n",
              "      <td>21</td>\n",
              "      <td>0.003295</td>\n",
              "      <td>0.004622</td>\n",
              "      <td>0.995802</td>\n",
              "      <td>00:00</td>\n",
              "    </tr>\n",
              "    <tr>\n",
              "      <td>22</td>\n",
              "      <td>0.003248</td>\n",
              "      <td>0.004562</td>\n",
              "      <td>0.995802</td>\n",
              "      <td>00:00</td>\n",
              "    </tr>\n",
              "    <tr>\n",
              "      <td>23</td>\n",
              "      <td>0.003205</td>\n",
              "      <td>0.004507</td>\n",
              "      <td>0.995802</td>\n",
              "      <td>00:00</td>\n",
              "    </tr>\n",
              "    <tr>\n",
              "      <td>24</td>\n",
              "      <td>0.003163</td>\n",
              "      <td>0.004455</td>\n",
              "      <td>0.995802</td>\n",
              "      <td>00:00</td>\n",
              "    </tr>\n",
              "    <tr>\n",
              "      <td>25</td>\n",
              "      <td>0.003122</td>\n",
              "      <td>0.004407</td>\n",
              "      <td>0.996269</td>\n",
              "      <td>00:00</td>\n",
              "    </tr>\n",
              "    <tr>\n",
              "      <td>26</td>\n",
              "      <td>0.003081</td>\n",
              "      <td>0.004365</td>\n",
              "      <td>0.996269</td>\n",
              "      <td>00:00</td>\n",
              "    </tr>\n",
              "    <tr>\n",
              "      <td>27</td>\n",
              "      <td>0.003042</td>\n",
              "      <td>0.004325</td>\n",
              "      <td>0.996269</td>\n",
              "      <td>00:00</td>\n",
              "    </tr>\n",
              "    <tr>\n",
              "      <td>28</td>\n",
              "      <td>0.003009</td>\n",
              "      <td>0.004290</td>\n",
              "      <td>0.996269</td>\n",
              "      <td>00:00</td>\n",
              "    </tr>\n",
              "    <tr>\n",
              "      <td>29</td>\n",
              "      <td>0.002980</td>\n",
              "      <td>0.004256</td>\n",
              "      <td>0.996269</td>\n",
              "      <td>00:00</td>\n",
              "    </tr>\n",
              "    <tr>\n",
              "      <td>30</td>\n",
              "      <td>0.002954</td>\n",
              "      <td>0.004224</td>\n",
              "      <td>0.996269</td>\n",
              "      <td>00:00</td>\n",
              "    </tr>\n",
              "    <tr>\n",
              "      <td>31</td>\n",
              "      <td>0.002930</td>\n",
              "      <td>0.004193</td>\n",
              "      <td>0.996269</td>\n",
              "      <td>00:00</td>\n",
              "    </tr>\n",
              "    <tr>\n",
              "      <td>32</td>\n",
              "      <td>0.002907</td>\n",
              "      <td>0.004163</td>\n",
              "      <td>0.996269</td>\n",
              "      <td>00:00</td>\n",
              "    </tr>\n",
              "    <tr>\n",
              "      <td>33</td>\n",
              "      <td>0.002885</td>\n",
              "      <td>0.004135</td>\n",
              "      <td>0.996269</td>\n",
              "      <td>00:00</td>\n",
              "    </tr>\n",
              "    <tr>\n",
              "      <td>34</td>\n",
              "      <td>0.002864</td>\n",
              "      <td>0.004108</td>\n",
              "      <td>0.996269</td>\n",
              "      <td>00:00</td>\n",
              "    </tr>\n",
              "    <tr>\n",
              "      <td>35</td>\n",
              "      <td>0.002844</td>\n",
              "      <td>0.004081</td>\n",
              "      <td>0.996269</td>\n",
              "      <td>00:00</td>\n",
              "    </tr>\n",
              "    <tr>\n",
              "      <td>36</td>\n",
              "      <td>0.002824</td>\n",
              "      <td>0.004056</td>\n",
              "      <td>0.996269</td>\n",
              "      <td>00:00</td>\n",
              "    </tr>\n",
              "    <tr>\n",
              "      <td>37</td>\n",
              "      <td>0.002804</td>\n",
              "      <td>0.004031</td>\n",
              "      <td>0.996735</td>\n",
              "      <td>00:00</td>\n",
              "    </tr>\n",
              "    <tr>\n",
              "      <td>38</td>\n",
              "      <td>0.002785</td>\n",
              "      <td>0.004008</td>\n",
              "      <td>0.997202</td>\n",
              "      <td>00:00</td>\n",
              "    </tr>\n",
              "    <tr>\n",
              "      <td>39</td>\n",
              "      <td>0.002766</td>\n",
              "      <td>0.003986</td>\n",
              "      <td>0.997202</td>\n",
              "      <td>00:00</td>\n",
              "    </tr>\n",
              "  </tbody>\n",
              "</table>"
            ]
          },
          "metadata": {}
        }
      ]
    },
    {
      "cell_type": "code",
      "source": [
        "# Plotting the model's accuracy over time\n",
        "plt.plot(L(learn.recorder.values).itemgot(2))"
      ],
      "metadata": {
        "colab": {
          "base_uri": "https://localhost:8080/",
          "height": 447
        },
        "id": "LqmFfd5nvJbk",
        "outputId": "5e685f28-63e2-4eab-9a62-2e151d0eb6b3"
      },
      "execution_count": 29,
      "outputs": [
        {
          "output_type": "execute_result",
          "data": {
            "text/plain": [
              "[<matplotlib.lines.Line2D at 0x7abd626fd010>]"
            ]
          },
          "metadata": {},
          "execution_count": 29
        },
        {
          "output_type": "display_data",
          "data": {
            "text/plain": [
              "<Figure size 640x480 with 1 Axes>"
            ],
            "image/png": "[encoded data removed]"
          },
          "metadata": {}
        }
      ]
    },
    {
      "cell_type": "code",
      "source": [
        "# Finding the last accuracy value\n",
        "learn.recorder.values[-1][2]"
      ],
      "metadata": {
        "colab": {
          "base_uri": "https://localhost:8080/"
        },
        "id": "DN96fuqyvRbC",
        "outputId": "37c8065b-4adc-4016-a99b-91154d29674a"
      },
      "execution_count": 30,
      "outputs": [
        {
          "output_type": "execute_result",
          "data": {
            "text/plain": [
              "0.9972015023231506"
            ]
          },
          "metadata": {},
          "execution_count": 30
        }
      ]
    },
    {
      "cell_type": "markdown",
      "source": [
        "* Our model is 99% accurate"
      ],
      "metadata": {
        "id": "AceU5P11vWUS"
      }
    }
  ]
}